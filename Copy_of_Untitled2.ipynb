{
  "nbformat": 4,
  "nbformat_minor": 0,
  "metadata": {
    "colab": {
      "provenance": [],
      "authorship_tag": "ABX9TyNdFwh3/WFXalsnIFOUibwt",
      "include_colab_link": true
    },
    "kernelspec": {
      "name": "python3",
      "display_name": "Python 3"
    },
    "language_info": {
      "name": "python"
    }
  },
  "cells": [
    {
      "cell_type": "markdown",
      "metadata": {
        "id": "view-in-github",
        "colab_type": "text"
      },
      "source": [
        "<a href=\"https://colab.research.google.com/github/AndrewSekiewicz/BeginnersPython/blob/main/Copy_of_Untitled2.ipynb\" target=\"_parent\"><img src=\"https://colab.research.google.com/assets/colab-badge.svg\" alt=\"Open In Colab\"/></a>"
      ]
    },
    {
      "cell_type": "markdown",
      "source": [
        "Downoad dataset from Kaggle"
      ],
      "metadata": {
        "id": "yiYAzTA-u50j"
      }
    },
    {
      "cell_type": "code",
      "execution_count": null,
      "metadata": {
        "colab": {
          "base_uri": "https://localhost:8080/"
        },
        "id": "n0jL0SQOuHNh",
        "outputId": "194c3c76-f3d4-4ec3-863a-ace5ef8d197f"
      },
      "outputs": [
        {
          "output_type": "stream",
          "name": "stdout",
          "text": [
            "Downloading from https://www.kaggle.com/api/v1/datasets/download/dwipayanmondal/superstore-database?dataset_version_number=1...\n"
          ]
        },
        {
          "output_type": "stream",
          "name": "stderr",
          "text": [
            "100%|██████████| 1.41M/1.41M [00:00<00:00, 34.9MB/s]"
          ]
        },
        {
          "output_type": "stream",
          "name": "stdout",
          "text": [
            "Extracting files...\n",
            "Path to dataset files: /root/.cache/kagglehub/datasets/dwipayanmondal/superstore-database/versions/1\n"
          ]
        },
        {
          "output_type": "stream",
          "name": "stderr",
          "text": [
            "\n"
          ]
        }
      ],
      "source": [
        "import pandas as pd\n",
        "import kagglehub\n",
        "\n",
        "path = kagglehub.dataset_download(\"dwipayanmondal/superstore-database\")\n",
        "\n",
        "print(\"Path to dataset files:\", path)"
      ]
    },
    {
      "cell_type": "markdown",
      "source": [
        "Read dataset into Excel file and print head"
      ],
      "metadata": {
        "id": "-aE6RHT1vGdL"
      }
    },
    {
      "cell_type": "code",
      "source": [
        "import os # Import the os module to construct the file path\n",
        "\n",
        "# Construct the full path to the Excel file using the downloaded path\n",
        "# Assuming the file name is \"Superstore Database.xlsx\" within the downloaded directory\n",
        "file_path = os.path.join(path, \"Superstore Database.xlsx\")\n",
        "\n",
        "# Read the Excel file using pd.read_excel\n",
        "input_data = pd.read_excel(file_path)\n",
        "\n",
        "# Display the first few rows of the dataframe to verify\n",
        "print(input_data.head())"
      ],
      "metadata": {
        "colab": {
          "base_uri": "https://localhost:8080/"
        },
        "id": "hcSNBdwGuk08",
        "outputId": "f9e6e9df-7f45-4a95-94f0-a3b9f3a48c1a"
      },
      "execution_count": null,
      "outputs": [
        {
          "output_type": "stream",
          "name": "stdout",
          "text": [
            "   Row ID  Order ID Order Date Order Priority  Order Quantity       Sales  \\\n",
            "0       1         3 2010-10-13            Low               6    261.5400   \n",
            "1      49       293 2012-10-01           High              49  10123.0200   \n",
            "2      50       293 2012-10-01           High              27    244.5700   \n",
            "3      80       483 2011-07-10           High              30   4965.7595   \n",
            "4      85       515 2010-08-28  Not Specified              19    394.2700   \n",
            "\n",
            "   Discount       Ship Mode     Profit  Unit Price  ...       Customer Name  \\\n",
            "0      0.04     Regular Air  -213.2500       38.94  ...  Muhammed MacIntyre   \n",
            "1      0.07  Delivery Truck   457.8100      208.16  ...        Barry French   \n",
            "2      0.01     Regular Air    46.7075        8.69  ...        Barry French   \n",
            "3      0.08     Regular Air  1198.9710      195.99  ...       Clay Rozendal   \n",
            "4      0.08     Regular Air    30.9400       21.78  ...      Carlos Soltero   \n",
            "\n",
            "  Province   Region Customer Segment Product Category  \\\n",
            "0  Nunavut  Nunavut   Small Business  Office Supplies   \n",
            "1  Nunavut  Nunavut         Consumer  Office Supplies   \n",
            "2  Nunavut  Nunavut         Consumer  Office Supplies   \n",
            "3  Nunavut  Nunavut        Corporate       Technology   \n",
            "4  Nunavut  Nunavut         Consumer  Office Supplies   \n",
            "\n",
            "             Product Sub-Category  \\\n",
            "0          Storage & Organization   \n",
            "1                      Appliances   \n",
            "2  Binders and Binder Accessories   \n",
            "3    Telephones and Communication   \n",
            "4                      Appliances   \n",
            "\n",
            "                                        Product Name Product Container  \\\n",
            "0   Eldon Base for stackable storage shelf, platinum         Large Box   \n",
            "1  1.7 Cubic Foot Compact \"Cube\" Office Refrigera...        Jumbo Drum   \n",
            "2   Cardinal Slant-D® Ring Binder, Heavy Gauge Vinyl         Small Box   \n",
            "3                                               R380         Small Box   \n",
            "4                           Holmes HEPA Air Purifier        Medium Box   \n",
            "\n",
            "  Product Base Margin  Ship Date  \n",
            "0                0.80 2010-10-20  \n",
            "1                0.58 2012-10-02  \n",
            "2                0.39 2012-10-03  \n",
            "3                0.58 2011-07-12  \n",
            "4                0.50 2010-08-30  \n",
            "\n",
            "[5 rows x 21 columns]\n"
          ]
        }
      ]
    },
    {
      "cell_type": "markdown",
      "source": [
        "Clean data for blanks and duplicates"
      ],
      "metadata": {
        "id": "oDo-3H84vrEk"
      }
    },
    {
      "cell_type": "code",
      "source": [
        "input_data.columns\n",
        "print(input_data.isnull().sum())\n",
        "input_data.dropna(inplace=True) # gets rid\n",
        "input_data.drop_duplicates(inplace=True)\n"
      ],
      "metadata": {
        "colab": {
          "base_uri": "https://localhost:8080/"
        },
        "id": "uu51055BH3dl",
        "outputId": "8dd7d1df-c50e-42e7-f26a-f9c4a2259a39"
      },
      "execution_count": null,
      "outputs": [
        {
          "output_type": "stream",
          "name": "stdout",
          "text": [
            "Row ID                   0\n",
            "Order ID                 0\n",
            "Order Date               0\n",
            "Order Priority           0\n",
            "Order Quantity           0\n",
            "Sales                    0\n",
            "Discount                 0\n",
            "Ship Mode                0\n",
            "Profit                   0\n",
            "Unit Price               0\n",
            "Shipping Cost            0\n",
            "Customer Name            0\n",
            "Province                 0\n",
            "Region                   0\n",
            "Customer Segment         0\n",
            "Product Category         0\n",
            "Product Sub-Category     0\n",
            "Product Name             0\n",
            "Product Container        0\n",
            "Product Base Margin     63\n",
            "Ship Date                0\n",
            "dtype: int64\n"
          ]
        }
      ]
    },
    {
      "cell_type": "code",
      "source": [
        "input_data.to_excel('clean2.xlsx')\n",
        "#open Files pane and double click on filename to download to local computer"
      ],
      "metadata": {
        "id": "350lCa8XvQnk"
      },
      "execution_count": null,
      "outputs": []
    },
    {
      "cell_type": "markdown",
      "source": [
        "Print two columns"
      ],
      "metadata": {
        "id": "y0fv7T8OvEHj"
      }
    },
    {
      "cell_type": "code",
      "source": [
        "input_data['Province']\n",
        "print(input_data[['Province','Customer Name']])"
      ],
      "metadata": {
        "id": "JV4UEVriuv2z",
        "colab": {
          "base_uri": "https://localhost:8080/"
        },
        "outputId": "a11296b8-ca00-4182-89a1-1c30879b05d2"
      },
      "execution_count": null,
      "outputs": [
        {
          "output_type": "stream",
          "name": "stdout",
          "text": [
            "     Province       Customer Name\n",
            "0     Nunavut  Muhammed MacIntyre\n",
            "1     Nunavut        Barry French\n",
            "2     Nunavut        Barry French\n",
            "3     Nunavut       Clay Rozendal\n",
            "4     Nunavut      Carlos Soltero\n",
            "...       ...                 ...\n",
            "8394  Alberta          Mick Brown\n",
            "8395  Alberta          Mick Brown\n",
            "8396  Alberta        Frank Hawley\n",
            "8397  Alberta        Frank Hawley\n",
            "8398  Alberta     Grant Donatelli\n",
            "\n",
            "[8336 rows x 2 columns]\n"
          ]
        }
      ]
    },
    {
      "cell_type": "markdown",
      "source": [
        "Filter data to show only cells containing 'Alberta' in the 'Province' column"
      ],
      "metadata": {
        "id": "4mBNr9vExcRl"
      }
    },
    {
      "cell_type": "code",
      "source": [
        "input_data.loc[input_data['Province']=='Alberta']"
      ],
      "metadata": {
        "colab": {
          "base_uri": "https://localhost:8080/",
          "height": 982
        },
        "id": "uIWlv2n1xRyM",
        "outputId": "1385b8b5-de43-4e32-d496-a9ee3ad1bd6b"
      },
      "execution_count": null,
      "outputs": [
        {
          "output_type": "execute_result",
          "data": {
            "text/plain": [
              "      Row ID  Order ID Order Date Order Priority  Order Quantity      Sales  \\\n",
              "7534      62       358 2010-09-19           High              33  1640.9000   \n",
              "7535      63       358 2010-09-19           High              33  1235.8700   \n",
              "7536     255      1767 2011-03-13           High              10    46.3400   \n",
              "7537     271      1863 2010-09-22  Not Specified              26  2415.3800   \n",
              "7538     437      2915 2009-03-30            Low              41   231.2600   \n",
              "...      ...       ...        ...            ...             ...        ...   \n",
              "8394    7765     55558 2010-08-09         Medium               8  1294.0400   \n",
              "8395    7766     55558 2010-08-09         Medium              23   392.5700   \n",
              "8396    7906     56550 2011-04-08  Not Specified              37   823.7800   \n",
              "8397    7907     56550 2011-04-08  Not Specified               8   469.8375   \n",
              "8398    7914     56581 2009-02-08           High              20  2026.0100   \n",
              "\n",
              "      Discount       Ship Mode    Profit  Unit Price  ...    Customer Name  \\\n",
              "7534      0.02  Delivery Truck -1348.060       48.58  ...    Ricardo Block   \n",
              "7535      0.07     Regular Air   269.270       39.48  ...    Ricardo Block   \n",
              "7536      0.05     Regular Air    -7.760        4.71  ...     Roger Barcio   \n",
              "7537      0.08  Delivery Truck -1131.600       95.95  ...         Sung Pak   \n",
              "7538      0.07     Regular Air    32.830        5.98  ...     Tim Brockman   \n",
              "...        ...             ...       ...         ...  ...              ...   \n",
              "8394      0.05  Delivery Truck  -323.180      150.98  ...       Mick Brown   \n",
              "8395      0.04     Regular Air    22.250       17.07  ...       Mick Brown   \n",
              "8396      0.03     Express Air   343.050       22.23  ...     Frank Hawley   \n",
              "8397      0.00     Regular Air  -159.236       65.99  ...     Frank Hawley   \n",
              "8398      0.10     Express Air   580.430      105.98  ...  Grant Donatelli   \n",
              "\n",
              "     Province Region Customer Segment Product Category  \\\n",
              "7534  Alberta   West        Corporate        Furniture   \n",
              "7535  Alberta   West        Corporate       Technology   \n",
              "7536  Alberta   West        Corporate  Office Supplies   \n",
              "7537  Alberta   West   Small Business        Furniture   \n",
              "7538  Alberta   West         Consumer  Office Supplies   \n",
              "...       ...    ...              ...              ...   \n",
              "8394  Alberta   West         Consumer        Furniture   \n",
              "8395  Alberta   West         Consumer  Office Supplies   \n",
              "8396  Alberta   West      Home Office        Furniture   \n",
              "8397  Alberta   West      Home Office       Technology   \n",
              "8398  Alberta   West         Consumer        Furniture   \n",
              "\n",
              "              Product Sub-Category  \\\n",
              "7534                     Bookcases   \n",
              "7535          Computer Peripherals   \n",
              "7536                  Rubber Bands   \n",
              "7537            Chairs & Chairmats   \n",
              "7538           Pens & Art Supplies   \n",
              "...                            ...   \n",
              "8394                     Bookcases   \n",
              "8395                     Envelopes   \n",
              "8396            Office Furnishings   \n",
              "8397  Telephones and Communication   \n",
              "8398            Office Furnishings   \n",
              "\n",
              "                                           Product Name Product Container  \\\n",
              "7534            O'Sullivan 2-Shelf Heavy-Duty Bookcases         Jumbo Box   \n",
              "7535         80 Minute CD-R Spindle, 100/Pack - Staples        Small Pack   \n",
              "7536            Plymouth Boxed Rubber Bands by Plymouth          Wrap Bag   \n",
              "7537                         Bevis Steel Folding Chairs        Jumbo Drum   \n",
              "7538                                         Newell 315          Wrap Bag   \n",
              "...                                                 ...               ...   \n",
              "8394                        Bush Mission Pointe Library         Jumbo Box   \n",
              "8395  Recycled Interoffice Envelopes with Re-Use-A-S...         Small Box   \n",
              "8396                          Executive Impressions 14\"        Small Pack   \n",
              "8397                                    Talkabout T8367         Small Box   \n",
              "8398  Tenex 46\" x 60\" Computer Anti-Static Chairmat,...        Medium Box   \n",
              "\n",
              "     Product Base Margin  Ship Date  \n",
              "7534                0.69 2010-09-21  \n",
              "7535                0.54 2010-09-19  \n",
              "7536                0.80 2011-03-15  \n",
              "7537                0.57 2010-09-23  \n",
              "7538                0.60 2009-04-03  \n",
              "...                  ...        ...  \n",
              "8394                0.65 2010-08-09  \n",
              "8395                0.38 2010-08-11  \n",
              "8396                0.41 2011-04-10  \n",
              "8397                0.56 2011-04-09  \n",
              "8398                0.65 2009-02-11  \n",
              "\n",
              "[862 rows x 21 columns]"
            ],
            "text/html": [
              "\n",
              "  <div id=\"df-40a76a21-5585-49c2-a84f-708aa4aa7ee5\" class=\"colab-df-container\">\n",
              "    <div>\n",
              "<style scoped>\n",
              "    .dataframe tbody tr th:only-of-type {\n",
              "        vertical-align: middle;\n",
              "    }\n",
              "\n",
              "    .dataframe tbody tr th {\n",
              "        vertical-align: top;\n",
              "    }\n",
              "\n",
              "    .dataframe thead th {\n",
              "        text-align: right;\n",
              "    }\n",
              "</style>\n",
              "<table border=\"1\" class=\"dataframe\">\n",
              "  <thead>\n",
              "    <tr style=\"text-align: right;\">\n",
              "      <th></th>\n",
              "      <th>Row ID</th>\n",
              "      <th>Order ID</th>\n",
              "      <th>Order Date</th>\n",
              "      <th>Order Priority</th>\n",
              "      <th>Order Quantity</th>\n",
              "      <th>Sales</th>\n",
              "      <th>Discount</th>\n",
              "      <th>Ship Mode</th>\n",
              "      <th>Profit</th>\n",
              "      <th>Unit Price</th>\n",
              "      <th>...</th>\n",
              "      <th>Customer Name</th>\n",
              "      <th>Province</th>\n",
              "      <th>Region</th>\n",
              "      <th>Customer Segment</th>\n",
              "      <th>Product Category</th>\n",
              "      <th>Product Sub-Category</th>\n",
              "      <th>Product Name</th>\n",
              "      <th>Product Container</th>\n",
              "      <th>Product Base Margin</th>\n",
              "      <th>Ship Date</th>\n",
              "    </tr>\n",
              "  </thead>\n",
              "  <tbody>\n",
              "    <tr>\n",
              "      <th>7534</th>\n",
              "      <td>62</td>\n",
              "      <td>358</td>\n",
              "      <td>2010-09-19</td>\n",
              "      <td>High</td>\n",
              "      <td>33</td>\n",
              "      <td>1640.9000</td>\n",
              "      <td>0.02</td>\n",
              "      <td>Delivery Truck</td>\n",
              "      <td>-1348.060</td>\n",
              "      <td>48.58</td>\n",
              "      <td>...</td>\n",
              "      <td>Ricardo Block</td>\n",
              "      <td>Alberta</td>\n",
              "      <td>West</td>\n",
              "      <td>Corporate</td>\n",
              "      <td>Furniture</td>\n",
              "      <td>Bookcases</td>\n",
              "      <td>O'Sullivan 2-Shelf Heavy-Duty Bookcases</td>\n",
              "      <td>Jumbo Box</td>\n",
              "      <td>0.69</td>\n",
              "      <td>2010-09-21</td>\n",
              "    </tr>\n",
              "    <tr>\n",
              "      <th>7535</th>\n",
              "      <td>63</td>\n",
              "      <td>358</td>\n",
              "      <td>2010-09-19</td>\n",
              "      <td>High</td>\n",
              "      <td>33</td>\n",
              "      <td>1235.8700</td>\n",
              "      <td>0.07</td>\n",
              "      <td>Regular Air</td>\n",
              "      <td>269.270</td>\n",
              "      <td>39.48</td>\n",
              "      <td>...</td>\n",
              "      <td>Ricardo Block</td>\n",
              "      <td>Alberta</td>\n",
              "      <td>West</td>\n",
              "      <td>Corporate</td>\n",
              "      <td>Technology</td>\n",
              "      <td>Computer Peripherals</td>\n",
              "      <td>80 Minute CD-R Spindle, 100/Pack - Staples</td>\n",
              "      <td>Small Pack</td>\n",
              "      <td>0.54</td>\n",
              "      <td>2010-09-19</td>\n",
              "    </tr>\n",
              "    <tr>\n",
              "      <th>7536</th>\n",
              "      <td>255</td>\n",
              "      <td>1767</td>\n",
              "      <td>2011-03-13</td>\n",
              "      <td>High</td>\n",
              "      <td>10</td>\n",
              "      <td>46.3400</td>\n",
              "      <td>0.05</td>\n",
              "      <td>Regular Air</td>\n",
              "      <td>-7.760</td>\n",
              "      <td>4.71</td>\n",
              "      <td>...</td>\n",
              "      <td>Roger Barcio</td>\n",
              "      <td>Alberta</td>\n",
              "      <td>West</td>\n",
              "      <td>Corporate</td>\n",
              "      <td>Office Supplies</td>\n",
              "      <td>Rubber Bands</td>\n",
              "      <td>Plymouth Boxed Rubber Bands by Plymouth</td>\n",
              "      <td>Wrap Bag</td>\n",
              "      <td>0.80</td>\n",
              "      <td>2011-03-15</td>\n",
              "    </tr>\n",
              "    <tr>\n",
              "      <th>7537</th>\n",
              "      <td>271</td>\n",
              "      <td>1863</td>\n",
              "      <td>2010-09-22</td>\n",
              "      <td>Not Specified</td>\n",
              "      <td>26</td>\n",
              "      <td>2415.3800</td>\n",
              "      <td>0.08</td>\n",
              "      <td>Delivery Truck</td>\n",
              "      <td>-1131.600</td>\n",
              "      <td>95.95</td>\n",
              "      <td>...</td>\n",
              "      <td>Sung Pak</td>\n",
              "      <td>Alberta</td>\n",
              "      <td>West</td>\n",
              "      <td>Small Business</td>\n",
              "      <td>Furniture</td>\n",
              "      <td>Chairs &amp; Chairmats</td>\n",
              "      <td>Bevis Steel Folding Chairs</td>\n",
              "      <td>Jumbo Drum</td>\n",
              "      <td>0.57</td>\n",
              "      <td>2010-09-23</td>\n",
              "    </tr>\n",
              "    <tr>\n",
              "      <th>7538</th>\n",
              "      <td>437</td>\n",
              "      <td>2915</td>\n",
              "      <td>2009-03-30</td>\n",
              "      <td>Low</td>\n",
              "      <td>41</td>\n",
              "      <td>231.2600</td>\n",
              "      <td>0.07</td>\n",
              "      <td>Regular Air</td>\n",
              "      <td>32.830</td>\n",
              "      <td>5.98</td>\n",
              "      <td>...</td>\n",
              "      <td>Tim Brockman</td>\n",
              "      <td>Alberta</td>\n",
              "      <td>West</td>\n",
              "      <td>Consumer</td>\n",
              "      <td>Office Supplies</td>\n",
              "      <td>Pens &amp; Art Supplies</td>\n",
              "      <td>Newell 315</td>\n",
              "      <td>Wrap Bag</td>\n",
              "      <td>0.60</td>\n",
              "      <td>2009-04-03</td>\n",
              "    </tr>\n",
              "    <tr>\n",
              "      <th>...</th>\n",
              "      <td>...</td>\n",
              "      <td>...</td>\n",
              "      <td>...</td>\n",
              "      <td>...</td>\n",
              "      <td>...</td>\n",
              "      <td>...</td>\n",
              "      <td>...</td>\n",
              "      <td>...</td>\n",
              "      <td>...</td>\n",
              "      <td>...</td>\n",
              "      <td>...</td>\n",
              "      <td>...</td>\n",
              "      <td>...</td>\n",
              "      <td>...</td>\n",
              "      <td>...</td>\n",
              "      <td>...</td>\n",
              "      <td>...</td>\n",
              "      <td>...</td>\n",
              "      <td>...</td>\n",
              "      <td>...</td>\n",
              "      <td>...</td>\n",
              "    </tr>\n",
              "    <tr>\n",
              "      <th>8394</th>\n",
              "      <td>7765</td>\n",
              "      <td>55558</td>\n",
              "      <td>2010-08-09</td>\n",
              "      <td>Medium</td>\n",
              "      <td>8</td>\n",
              "      <td>1294.0400</td>\n",
              "      <td>0.05</td>\n",
              "      <td>Delivery Truck</td>\n",
              "      <td>-323.180</td>\n",
              "      <td>150.98</td>\n",
              "      <td>...</td>\n",
              "      <td>Mick Brown</td>\n",
              "      <td>Alberta</td>\n",
              "      <td>West</td>\n",
              "      <td>Consumer</td>\n",
              "      <td>Furniture</td>\n",
              "      <td>Bookcases</td>\n",
              "      <td>Bush Mission Pointe Library</td>\n",
              "      <td>Jumbo Box</td>\n",
              "      <td>0.65</td>\n",
              "      <td>2010-08-09</td>\n",
              "    </tr>\n",
              "    <tr>\n",
              "      <th>8395</th>\n",
              "      <td>7766</td>\n",
              "      <td>55558</td>\n",
              "      <td>2010-08-09</td>\n",
              "      <td>Medium</td>\n",
              "      <td>23</td>\n",
              "      <td>392.5700</td>\n",
              "      <td>0.04</td>\n",
              "      <td>Regular Air</td>\n",
              "      <td>22.250</td>\n",
              "      <td>17.07</td>\n",
              "      <td>...</td>\n",
              "      <td>Mick Brown</td>\n",
              "      <td>Alberta</td>\n",
              "      <td>West</td>\n",
              "      <td>Consumer</td>\n",
              "      <td>Office Supplies</td>\n",
              "      <td>Envelopes</td>\n",
              "      <td>Recycled Interoffice Envelopes with Re-Use-A-S...</td>\n",
              "      <td>Small Box</td>\n",
              "      <td>0.38</td>\n",
              "      <td>2010-08-11</td>\n",
              "    </tr>\n",
              "    <tr>\n",
              "      <th>8396</th>\n",
              "      <td>7906</td>\n",
              "      <td>56550</td>\n",
              "      <td>2011-04-08</td>\n",
              "      <td>Not Specified</td>\n",
              "      <td>37</td>\n",
              "      <td>823.7800</td>\n",
              "      <td>0.03</td>\n",
              "      <td>Express Air</td>\n",
              "      <td>343.050</td>\n",
              "      <td>22.23</td>\n",
              "      <td>...</td>\n",
              "      <td>Frank Hawley</td>\n",
              "      <td>Alberta</td>\n",
              "      <td>West</td>\n",
              "      <td>Home Office</td>\n",
              "      <td>Furniture</td>\n",
              "      <td>Office Furnishings</td>\n",
              "      <td>Executive Impressions 14\"</td>\n",
              "      <td>Small Pack</td>\n",
              "      <td>0.41</td>\n",
              "      <td>2011-04-10</td>\n",
              "    </tr>\n",
              "    <tr>\n",
              "      <th>8397</th>\n",
              "      <td>7907</td>\n",
              "      <td>56550</td>\n",
              "      <td>2011-04-08</td>\n",
              "      <td>Not Specified</td>\n",
              "      <td>8</td>\n",
              "      <td>469.8375</td>\n",
              "      <td>0.00</td>\n",
              "      <td>Regular Air</td>\n",
              "      <td>-159.236</td>\n",
              "      <td>65.99</td>\n",
              "      <td>...</td>\n",
              "      <td>Frank Hawley</td>\n",
              "      <td>Alberta</td>\n",
              "      <td>West</td>\n",
              "      <td>Home Office</td>\n",
              "      <td>Technology</td>\n",
              "      <td>Telephones and Communication</td>\n",
              "      <td>Talkabout T8367</td>\n",
              "      <td>Small Box</td>\n",
              "      <td>0.56</td>\n",
              "      <td>2011-04-09</td>\n",
              "    </tr>\n",
              "    <tr>\n",
              "      <th>8398</th>\n",
              "      <td>7914</td>\n",
              "      <td>56581</td>\n",
              "      <td>2009-02-08</td>\n",
              "      <td>High</td>\n",
              "      <td>20</td>\n",
              "      <td>2026.0100</td>\n",
              "      <td>0.10</td>\n",
              "      <td>Express Air</td>\n",
              "      <td>580.430</td>\n",
              "      <td>105.98</td>\n",
              "      <td>...</td>\n",
              "      <td>Grant Donatelli</td>\n",
              "      <td>Alberta</td>\n",
              "      <td>West</td>\n",
              "      <td>Consumer</td>\n",
              "      <td>Furniture</td>\n",
              "      <td>Office Furnishings</td>\n",
              "      <td>Tenex 46\" x 60\" Computer Anti-Static Chairmat,...</td>\n",
              "      <td>Medium Box</td>\n",
              "      <td>0.65</td>\n",
              "      <td>2009-02-11</td>\n",
              "    </tr>\n",
              "  </tbody>\n",
              "</table>\n",
              "<p>862 rows × 21 columns</p>\n",
              "</div>\n",
              "    <div class=\"colab-df-buttons\">\n",
              "\n",
              "  <div class=\"colab-df-container\">\n",
              "    <button class=\"colab-df-convert\" onclick=\"convertToInteractive('df-40a76a21-5585-49c2-a84f-708aa4aa7ee5')\"\n",
              "            title=\"Convert this dataframe to an interactive table.\"\n",
              "            style=\"display:none;\">\n",
              "\n",
              "  <svg xmlns=\"http://www.w3.org/2000/svg\" height=\"24px\" viewBox=\"0 -960 960 960\">\n",
              "    <path d=\"M120-120v-720h720v720H120Zm60-500h600v-160H180v160Zm220 220h160v-160H400v160Zm0 220h160v-160H400v160ZM180-400h160v-160H180v160Zm440 0h160v-160H620v160ZM180-180h160v-160H180v160Zm440 0h160v-160H620v160Z\"/>\n",
              "  </svg>\n",
              "    </button>\n",
              "\n",
              "  <style>\n",
              "    .colab-df-container {\n",
              "      display:flex;\n",
              "      gap: 12px;\n",
              "    }\n",
              "\n",
              "    .colab-df-convert {\n",
              "      background-color: #E8F0FE;\n",
              "      border: none;\n",
              "      border-radius: 50%;\n",
              "      cursor: pointer;\n",
              "      display: none;\n",
              "      fill: #1967D2;\n",
              "      height: 32px;\n",
              "      padding: 0 0 0 0;\n",
              "      width: 32px;\n",
              "    }\n",
              "\n",
              "    .colab-df-convert:hover {\n",
              "      background-color: #E2EBFA;\n",
              "      box-shadow: 0px 1px 2px rgba(60, 64, 67, 0.3), 0px 1px 3px 1px rgba(60, 64, 67, 0.15);\n",
              "      fill: #174EA6;\n",
              "    }\n",
              "\n",
              "    .colab-df-buttons div {\n",
              "      margin-bottom: 4px;\n",
              "    }\n",
              "\n",
              "    [theme=dark] .colab-df-convert {\n",
              "      background-color: #3B4455;\n",
              "      fill: #D2E3FC;\n",
              "    }\n",
              "\n",
              "    [theme=dark] .colab-df-convert:hover {\n",
              "      background-color: #434B5C;\n",
              "      box-shadow: 0px 1px 3px 1px rgba(0, 0, 0, 0.15);\n",
              "      filter: drop-shadow(0px 1px 2px rgba(0, 0, 0, 0.3));\n",
              "      fill: #FFFFFF;\n",
              "    }\n",
              "  </style>\n",
              "\n",
              "    <script>\n",
              "      const buttonEl =\n",
              "        document.querySelector('#df-40a76a21-5585-49c2-a84f-708aa4aa7ee5 button.colab-df-convert');\n",
              "      buttonEl.style.display =\n",
              "        google.colab.kernel.accessAllowed ? 'block' : 'none';\n",
              "\n",
              "      async function convertToInteractive(key) {\n",
              "        const element = document.querySelector('#df-40a76a21-5585-49c2-a84f-708aa4aa7ee5');\n",
              "        const dataTable =\n",
              "          await google.colab.kernel.invokeFunction('convertToInteractive',\n",
              "                                                    [key], {});\n",
              "        if (!dataTable) return;\n",
              "\n",
              "        const docLinkHtml = 'Like what you see? Visit the ' +\n",
              "          '<a target=\"_blank\" href=https://colab.research.google.com/notebooks/data_table.ipynb>data table notebook</a>'\n",
              "          + ' to learn more about interactive tables.';\n",
              "        element.innerHTML = '';\n",
              "        dataTable['output_type'] = 'display_data';\n",
              "        await google.colab.output.renderOutput(dataTable, element);\n",
              "        const docLink = document.createElement('div');\n",
              "        docLink.innerHTML = docLinkHtml;\n",
              "        element.appendChild(docLink);\n",
              "      }\n",
              "    </script>\n",
              "  </div>\n",
              "\n",
              "\n",
              "    <div id=\"df-e08bd215-6ef3-43b9-8a83-5d33b87a0f11\">\n",
              "      <button class=\"colab-df-quickchart\" onclick=\"quickchart('df-e08bd215-6ef3-43b9-8a83-5d33b87a0f11')\"\n",
              "                title=\"Suggest charts\"\n",
              "                style=\"display:none;\">\n",
              "\n",
              "<svg xmlns=\"http://www.w3.org/2000/svg\" height=\"24px\"viewBox=\"0 0 24 24\"\n",
              "     width=\"24px\">\n",
              "    <g>\n",
              "        <path d=\"M19 3H5c-1.1 0-2 .9-2 2v14c0 1.1.9 2 2 2h14c1.1 0 2-.9 2-2V5c0-1.1-.9-2-2-2zM9 17H7v-7h2v7zm4 0h-2V7h2v10zm4 0h-2v-4h2v4z\"/>\n",
              "    </g>\n",
              "</svg>\n",
              "      </button>\n",
              "\n",
              "<style>\n",
              "  .colab-df-quickchart {\n",
              "      --bg-color: #E8F0FE;\n",
              "      --fill-color: #1967D2;\n",
              "      --hover-bg-color: #E2EBFA;\n",
              "      --hover-fill-color: #174EA6;\n",
              "      --disabled-fill-color: #AAA;\n",
              "      --disabled-bg-color: #DDD;\n",
              "  }\n",
              "\n",
              "  [theme=dark] .colab-df-quickchart {\n",
              "      --bg-color: #3B4455;\n",
              "      --fill-color: #D2E3FC;\n",
              "      --hover-bg-color: #434B5C;\n",
              "      --hover-fill-color: #FFFFFF;\n",
              "      --disabled-bg-color: #3B4455;\n",
              "      --disabled-fill-color: #666;\n",
              "  }\n",
              "\n",
              "  .colab-df-quickchart {\n",
              "    background-color: var(--bg-color);\n",
              "    border: none;\n",
              "    border-radius: 50%;\n",
              "    cursor: pointer;\n",
              "    display: none;\n",
              "    fill: var(--fill-color);\n",
              "    height: 32px;\n",
              "    padding: 0;\n",
              "    width: 32px;\n",
              "  }\n",
              "\n",
              "  .colab-df-quickchart:hover {\n",
              "    background-color: var(--hover-bg-color);\n",
              "    box-shadow: 0 1px 2px rgba(60, 64, 67, 0.3), 0 1px 3px 1px rgba(60, 64, 67, 0.15);\n",
              "    fill: var(--button-hover-fill-color);\n",
              "  }\n",
              "\n",
              "  .colab-df-quickchart-complete:disabled,\n",
              "  .colab-df-quickchart-complete:disabled:hover {\n",
              "    background-color: var(--disabled-bg-color);\n",
              "    fill: var(--disabled-fill-color);\n",
              "    box-shadow: none;\n",
              "  }\n",
              "\n",
              "  .colab-df-spinner {\n",
              "    border: 2px solid var(--fill-color);\n",
              "    border-color: transparent;\n",
              "    border-bottom-color: var(--fill-color);\n",
              "    animation:\n",
              "      spin 1s steps(1) infinite;\n",
              "  }\n",
              "\n",
              "  @keyframes spin {\n",
              "    0% {\n",
              "      border-color: transparent;\n",
              "      border-bottom-color: var(--fill-color);\n",
              "      border-left-color: var(--fill-color);\n",
              "    }\n",
              "    20% {\n",
              "      border-color: transparent;\n",
              "      border-left-color: var(--fill-color);\n",
              "      border-top-color: var(--fill-color);\n",
              "    }\n",
              "    30% {\n",
              "      border-color: transparent;\n",
              "      border-left-color: var(--fill-color);\n",
              "      border-top-color: var(--fill-color);\n",
              "      border-right-color: var(--fill-color);\n",
              "    }\n",
              "    40% {\n",
              "      border-color: transparent;\n",
              "      border-right-color: var(--fill-color);\n",
              "      border-top-color: var(--fill-color);\n",
              "    }\n",
              "    60% {\n",
              "      border-color: transparent;\n",
              "      border-right-color: var(--fill-color);\n",
              "    }\n",
              "    80% {\n",
              "      border-color: transparent;\n",
              "      border-right-color: var(--fill-color);\n",
              "      border-bottom-color: var(--fill-color);\n",
              "    }\n",
              "    90% {\n",
              "      border-color: transparent;\n",
              "      border-bottom-color: var(--fill-color);\n",
              "    }\n",
              "  }\n",
              "</style>\n",
              "\n",
              "      <script>\n",
              "        async function quickchart(key) {\n",
              "          const quickchartButtonEl =\n",
              "            document.querySelector('#' + key + ' button');\n",
              "          quickchartButtonEl.disabled = true;  // To prevent multiple clicks.\n",
              "          quickchartButtonEl.classList.add('colab-df-spinner');\n",
              "          try {\n",
              "            const charts = await google.colab.kernel.invokeFunction(\n",
              "                'suggestCharts', [key], {});\n",
              "          } catch (error) {\n",
              "            console.error('Error during call to suggestCharts:', error);\n",
              "          }\n",
              "          quickchartButtonEl.classList.remove('colab-df-spinner');\n",
              "          quickchartButtonEl.classList.add('colab-df-quickchart-complete');\n",
              "        }\n",
              "        (() => {\n",
              "          let quickchartButtonEl =\n",
              "            document.querySelector('#df-e08bd215-6ef3-43b9-8a83-5d33b87a0f11 button');\n",
              "          quickchartButtonEl.style.display =\n",
              "            google.colab.kernel.accessAllowed ? 'block' : 'none';\n",
              "        })();\n",
              "      </script>\n",
              "    </div>\n",
              "\n",
              "    </div>\n",
              "  </div>\n"
            ],
            "application/vnd.google.colaboratory.intrinsic+json": {
              "type": "dataframe"
            }
          },
          "metadata": {},
          "execution_count": 6
        }
      ]
    },
    {
      "cell_type": "markdown",
      "source": [
        "List the columns"
      ],
      "metadata": {
        "id": "GNBiZtJnyjS9"
      }
    },
    {
      "cell_type": "code",
      "source": [
        "input_data.columns"
      ],
      "metadata": {
        "colab": {
          "base_uri": "https://localhost:8080/"
        },
        "id": "9J3TA1gtxvsd",
        "outputId": "1fc4839e-84ce-45ba-d03a-c8cda198bc86"
      },
      "execution_count": null,
      "outputs": [
        {
          "output_type": "execute_result",
          "data": {
            "text/plain": [
              "Index(['Row ID', 'Order ID', 'Order Date', 'Order Priority', 'Order Quantity',\n",
              "       'Sales', 'Discount', 'Ship Mode', 'Profit', 'Unit Price',\n",
              "       'Shipping Cost', 'Customer Name', 'Province', 'Region',\n",
              "       'Customer Segment', 'Product Category', 'Product Sub-Category',\n",
              "       'Product Name', 'Product Container', 'Product Base Margin',\n",
              "       'Ship Date'],\n",
              "      dtype='object')"
            ]
          },
          "metadata": {},
          "execution_count": 7
        }
      ]
    },
    {
      "cell_type": "markdown",
      "source": [
        "Date and time operations"
      ],
      "metadata": {
        "id": "9Ta5bf9ryou9"
      }
    },
    {
      "cell_type": "code",
      "source": [
        "from datetime import datetime\n",
        "input_data['Order Date'] = pd.to_datetime(input_data['Order Date'])\n",
        "# input_data['Today']=pd.to_datetime(date.today())\n",
        "input_data['Order Date'] = pd.to_datetime(input_data['Order Date'])\n",
        "input_data['Ship Date'] = pd.to_datetime(input_data['Ship Date'])\n",
        "# input_data['Today']= pd.to_datetime(date.today())\n",
        "input_data['Despatch Time'] = (input_data['Ship Date'] -  input_data['Order Date']).dt.days\n",
        "print(input_data)"
      ],
      "metadata": {
        "colab": {
          "base_uri": "https://localhost:8080/"
        },
        "id": "sjk68EPyy5hm",
        "outputId": "55b6d5b3-9f29-4587-ab22-66220ed71e9d"
      },
      "execution_count": null,
      "outputs": [
        {
          "output_type": "stream",
          "name": "stdout",
          "text": [
            "      Row ID  Order ID Order Date Order Priority  Order Quantity       Sales  \\\n",
            "0          1         3 2010-10-13            Low               6    261.5400   \n",
            "1         49       293 2012-10-01           High              49  10123.0200   \n",
            "2         50       293 2012-10-01           High              27    244.5700   \n",
            "3         80       483 2011-07-10           High              30   4965.7595   \n",
            "4         85       515 2010-08-28  Not Specified              19    394.2700   \n",
            "...      ...       ...        ...            ...             ...         ...   \n",
            "8394    7765     55558 2010-08-09         Medium               8   1294.0400   \n",
            "8395    7766     55558 2010-08-09         Medium              23    392.5700   \n",
            "8396    7906     56550 2011-04-08  Not Specified              37    823.7800   \n",
            "8397    7907     56550 2011-04-08  Not Specified               8    469.8375   \n",
            "8398    7914     56581 2009-02-08           High              20   2026.0100   \n",
            "\n",
            "      Discount       Ship Mode     Profit  Unit Price  ...  Province   Region  \\\n",
            "0         0.04     Regular Air  -213.2500       38.94  ...   Nunavut  Nunavut   \n",
            "1         0.07  Delivery Truck   457.8100      208.16  ...   Nunavut  Nunavut   \n",
            "2         0.01     Regular Air    46.7075        8.69  ...   Nunavut  Nunavut   \n",
            "3         0.08     Regular Air  1198.9710      195.99  ...   Nunavut  Nunavut   \n",
            "4         0.08     Regular Air    30.9400       21.78  ...   Nunavut  Nunavut   \n",
            "...        ...             ...        ...         ...  ...       ...      ...   \n",
            "8394      0.05  Delivery Truck  -323.1800      150.98  ...   Alberta     West   \n",
            "8395      0.04     Regular Air    22.2500       17.07  ...   Alberta     West   \n",
            "8396      0.03     Express Air   343.0500       22.23  ...   Alberta     West   \n",
            "8397      0.00     Regular Air  -159.2360       65.99  ...   Alberta     West   \n",
            "8398      0.10     Express Air   580.4300      105.98  ...   Alberta     West   \n",
            "\n",
            "     Customer Segment Product Category            Product Sub-Category  \\\n",
            "0      Small Business  Office Supplies          Storage & Organization   \n",
            "1            Consumer  Office Supplies                      Appliances   \n",
            "2            Consumer  Office Supplies  Binders and Binder Accessories   \n",
            "3           Corporate       Technology    Telephones and Communication   \n",
            "4            Consumer  Office Supplies                      Appliances   \n",
            "...               ...              ...                             ...   \n",
            "8394         Consumer        Furniture                       Bookcases   \n",
            "8395         Consumer  Office Supplies                       Envelopes   \n",
            "8396      Home Office        Furniture              Office Furnishings   \n",
            "8397      Home Office       Technology    Telephones and Communication   \n",
            "8398         Consumer        Furniture              Office Furnishings   \n",
            "\n",
            "                                           Product Name Product Container  \\\n",
            "0      Eldon Base for stackable storage shelf, platinum         Large Box   \n",
            "1     1.7 Cubic Foot Compact \"Cube\" Office Refrigera...        Jumbo Drum   \n",
            "2      Cardinal Slant-D® Ring Binder, Heavy Gauge Vinyl         Small Box   \n",
            "3                                                  R380         Small Box   \n",
            "4                              Holmes HEPA Air Purifier        Medium Box   \n",
            "...                                                 ...               ...   \n",
            "8394                        Bush Mission Pointe Library         Jumbo Box   \n",
            "8395  Recycled Interoffice Envelopes with Re-Use-A-S...         Small Box   \n",
            "8396                          Executive Impressions 14\"        Small Pack   \n",
            "8397                                    Talkabout T8367         Small Box   \n",
            "8398  Tenex 46\" x 60\" Computer Anti-Static Chairmat,...        Medium Box   \n",
            "\n",
            "     Product Base Margin  Ship Date  Despatch Time  \n",
            "0                   0.80 2010-10-20              7  \n",
            "1                   0.58 2012-10-02              1  \n",
            "2                   0.39 2012-10-03              2  \n",
            "3                   0.58 2011-07-12              2  \n",
            "4                   0.50 2010-08-30              2  \n",
            "...                  ...        ...            ...  \n",
            "8394                0.65 2010-08-09              0  \n",
            "8395                0.38 2010-08-11              2  \n",
            "8396                0.41 2011-04-10              2  \n",
            "8397                0.56 2011-04-09              1  \n",
            "8398                0.65 2009-02-11              3  \n",
            "\n",
            "[8336 rows x 22 columns]\n"
          ]
        }
      ]
    },
    {
      "cell_type": "markdown",
      "source": [
        "Calculate the mean time to Despatch an order"
      ],
      "metadata": {
        "id": "y2Z6Hjea1sAV"
      }
    },
    {
      "cell_type": "code",
      "source": [
        "input_data.columns\n",
        "input_data.describe()\n",
        "print(input_data['Despatch Time'].mean())"
      ],
      "metadata": {
        "colab": {
          "base_uri": "https://localhost:8080/"
        },
        "id": "uXH7d2Qd1XGU",
        "outputId": "a8b927ca-0714-4ef4-9875-a883b829a24f"
      },
      "execution_count": null,
      "outputs": [
        {
          "output_type": "stream",
          "name": "stdout",
          "text": [
            "2.0357485604606524\n"
          ]
        }
      ]
    },
    {
      "cell_type": "markdown",
      "source": [
        "Group by 'province'"
      ],
      "metadata": {
        "id": "we1ycQ4A1h1E"
      }
    },
    {
      "cell_type": "code",
      "source": [
        "agg_data=input_data.groupby(['Province']).agg({'Despatch Time':'mean'})\n",
        "print(agg_data)"
      ],
      "metadata": {
        "colab": {
          "base_uri": "https://localhost:8080/"
        },
        "id": "4jH7hFl-1qr8",
        "outputId": "6d3764ec-6463-414d-d00d-cde59af361ef"
      },
      "execution_count": null,
      "outputs": [
        {
          "output_type": "stream",
          "name": "stdout",
          "text": [
            "                       Despatch Time\n",
            "Province                            \n",
            "Alberta                     2.011601\n",
            "British Columbia            1.945389\n",
            "Manitoba                    1.982234\n",
            "New Brunswick               1.996875\n",
            "Newfoundland                2.231707\n",
            "Northwest Territories       1.858974\n",
            "Nova Scotia                 2.257081\n",
            "Nunavut                     2.171053\n",
            "Ontario                     2.014892\n",
            "Prince Edward Island        2.205742\n",
            "Quebec                      2.076129\n",
            "Saskachewan                 1.878587\n",
            "Yukon                       2.463822\n"
          ]
        }
      ]
    },
    {
      "cell_type": "markdown",
      "source": [
        "Import openpyxl, matplotlib and numpy"
      ],
      "metadata": {
        "id": "ToeBHAEv2tsQ"
      }
    },
    {
      "cell_type": "code",
      "source": [
        "import openpyxl\n",
        "import matplotlib.pyplot as plt\n",
        "import numpy as np\n",
        "\n",
        "from openpyxl.chart import BarChart, Reference\n",
        "bar_chart = BarChart()\n",
        "bar_chart.title= \"Despatch Time by Province\"\n",
        "bar_chart.style=13\n",
        "bar_chart.x_axis.title = \"Province\"\n",
        "bar_chart.y_axis.title = \"Despatch Time\"\n",
        "\n",
        "#data_Reference(agg_data, min_col=2, min_row=1, max_row=8)\n",
        "#categories_Reference(agg_data, min_col=1, min_row=2, max_row=8)\n",
        "\n",
        "bar_chart.add_data(data, titles_from_data=True)\n",
        "bar_chart.set_categories(categories)\n",
        "sheet.add_chart(bar_chart, \"X2\")\n",
        "\n"
      ],
      "metadata": {
        "colab": {
          "base_uri": "https://localhost:8080/",
          "height": 356
        },
        "id": "onxiaq_h2yvH",
        "outputId": "9a4aa424-e15b-4327-a5ad-ff06ff89d167"
      },
      "execution_count": null,
      "outputs": [
        {
          "output_type": "error",
          "ename": "AttributeError",
          "evalue": "'DataFrame' object has no attribute 'title'",
          "traceback": [
            "\u001b[0;31m---------------------------------------------------------------------------\u001b[0m",
            "\u001b[0;31mAttributeError\u001b[0m                            Traceback (most recent call last)",
            "\u001b[0;32m/tmp/ipython-input-15-4105429227.py\u001b[0m in \u001b[0;36m<cell line: 0>\u001b[0;34m()\u001b[0m\n\u001b[1;32m     13\u001b[0m \u001b[0;31m#categories_Reference(agg_data, min_col=1, min_row=2, max_row=8)\u001b[0m\u001b[0;34m\u001b[0m\u001b[0;34m\u001b[0m\u001b[0m\n\u001b[1;32m     14\u001b[0m \u001b[0;34m\u001b[0m\u001b[0m\n\u001b[0;32m---> 15\u001b[0;31m \u001b[0mbar_chart\u001b[0m\u001b[0;34m.\u001b[0m\u001b[0madd_data\u001b[0m\u001b[0;34m(\u001b[0m\u001b[0mdata\u001b[0m\u001b[0;34m,\u001b[0m \u001b[0mtitles_from_data\u001b[0m\u001b[0;34m=\u001b[0m\u001b[0;32mTrue\u001b[0m\u001b[0;34m)\u001b[0m\u001b[0;34m\u001b[0m\u001b[0;34m\u001b[0m\u001b[0m\n\u001b[0m\u001b[1;32m     16\u001b[0m \u001b[0mbar_chart\u001b[0m\u001b[0;34m.\u001b[0m\u001b[0mset_categories\u001b[0m\u001b[0;34m(\u001b[0m\u001b[0mcategories\u001b[0m\u001b[0;34m)\u001b[0m\u001b[0;34m\u001b[0m\u001b[0;34m\u001b[0m\u001b[0m\n\u001b[1;32m     17\u001b[0m \u001b[0msheet\u001b[0m\u001b[0;34m.\u001b[0m\u001b[0madd_chart\u001b[0m\u001b[0;34m(\u001b[0m\u001b[0mbar_chart\u001b[0m\u001b[0;34m,\u001b[0m \u001b[0;34m\"X2\"\u001b[0m\u001b[0;34m)\u001b[0m\u001b[0;34m\u001b[0m\u001b[0;34m\u001b[0m\u001b[0m\n",
            "\u001b[0;32m/usr/local/lib/python3.11/dist-packages/openpyxl/chart/_chart.py\u001b[0m in \u001b[0;36madd_data\u001b[0;34m(self, data, from_rows, titles_from_data)\u001b[0m\n\u001b[1;32m    184\u001b[0m \u001b[0;34m\u001b[0m\u001b[0m\n\u001b[1;32m    185\u001b[0m         \u001b[0;32mfor\u001b[0m \u001b[0mref\u001b[0m \u001b[0;32min\u001b[0m \u001b[0mvalues\u001b[0m\u001b[0;34m:\u001b[0m\u001b[0;34m\u001b[0m\u001b[0;34m\u001b[0m\u001b[0m\n\u001b[0;32m--> 186\u001b[0;31m             \u001b[0mseries\u001b[0m \u001b[0;34m=\u001b[0m \u001b[0mSeriesFactory\u001b[0m\u001b[0;34m(\u001b[0m\u001b[0mref\u001b[0m\u001b[0;34m,\u001b[0m \u001b[0mtitle_from_data\u001b[0m\u001b[0;34m=\u001b[0m\u001b[0mtitles_from_data\u001b[0m\u001b[0;34m)\u001b[0m\u001b[0;34m\u001b[0m\u001b[0;34m\u001b[0m\u001b[0m\n\u001b[0m\u001b[1;32m    187\u001b[0m             \u001b[0mself\u001b[0m\u001b[0;34m.\u001b[0m\u001b[0mseries\u001b[0m\u001b[0;34m.\u001b[0m\u001b[0mappend\u001b[0m\u001b[0;34m(\u001b[0m\u001b[0mseries\u001b[0m\u001b[0;34m)\u001b[0m\u001b[0;34m\u001b[0m\u001b[0;34m\u001b[0m\u001b[0m\n\u001b[1;32m    188\u001b[0m \u001b[0;34m\u001b[0m\u001b[0m\n",
            "\u001b[0;32m/usr/local/lib/python3.11/dist-packages/openpyxl/chart/series_factory.py\u001b[0m in \u001b[0;36mSeriesFactory\u001b[0;34m(values, xvalues, zvalues, title, title_from_data)\u001b[0m\n\u001b[1;32m     17\u001b[0m     \u001b[0;32mif\u001b[0m \u001b[0mtitle_from_data\u001b[0m\u001b[0;34m:\u001b[0m\u001b[0;34m\u001b[0m\u001b[0;34m\u001b[0m\u001b[0m\n\u001b[1;32m     18\u001b[0m         \u001b[0mcell\u001b[0m \u001b[0;34m=\u001b[0m \u001b[0mvalues\u001b[0m\u001b[0;34m.\u001b[0m\u001b[0mpop\u001b[0m\u001b[0;34m(\u001b[0m\u001b[0;34m)\u001b[0m\u001b[0;34m\u001b[0m\u001b[0;34m\u001b[0m\u001b[0m\n\u001b[0;32m---> 19\u001b[0;31m         \u001b[0mtitle\u001b[0m \u001b[0;34m=\u001b[0m \u001b[0;34mu\"{0}!{1}\"\u001b[0m\u001b[0;34m.\u001b[0m\u001b[0mformat\u001b[0m\u001b[0;34m(\u001b[0m\u001b[0mvalues\u001b[0m\u001b[0;34m.\u001b[0m\u001b[0msheetname\u001b[0m\u001b[0;34m,\u001b[0m \u001b[0mcell\u001b[0m\u001b[0;34m)\u001b[0m\u001b[0;34m\u001b[0m\u001b[0;34m\u001b[0m\u001b[0m\n\u001b[0m\u001b[1;32m     20\u001b[0m         \u001b[0mtitle\u001b[0m \u001b[0;34m=\u001b[0m \u001b[0mSeriesLabel\u001b[0m\u001b[0;34m(\u001b[0m\u001b[0mstrRef\u001b[0m\u001b[0;34m=\u001b[0m\u001b[0mStrRef\u001b[0m\u001b[0;34m(\u001b[0m\u001b[0mtitle\u001b[0m\u001b[0;34m)\u001b[0m\u001b[0;34m)\u001b[0m\u001b[0;34m\u001b[0m\u001b[0;34m\u001b[0m\u001b[0m\n\u001b[1;32m     21\u001b[0m     \u001b[0;32melif\u001b[0m \u001b[0mtitle\u001b[0m \u001b[0;32mis\u001b[0m \u001b[0;32mnot\u001b[0m \u001b[0;32mNone\u001b[0m\u001b[0;34m:\u001b[0m\u001b[0;34m\u001b[0m\u001b[0;34m\u001b[0m\u001b[0m\n",
            "\u001b[0;32m/usr/local/lib/python3.11/dist-packages/openpyxl/chart/reference.py\u001b[0m in \u001b[0;36msheetname\u001b[0;34m(self)\u001b[0m\n\u001b[1;32m    122\u001b[0m     \u001b[0;34m@\u001b[0m\u001b[0mproperty\u001b[0m\u001b[0;34m\u001b[0m\u001b[0;34m\u001b[0m\u001b[0m\n\u001b[1;32m    123\u001b[0m     \u001b[0;32mdef\u001b[0m \u001b[0msheetname\u001b[0m\u001b[0;34m(\u001b[0m\u001b[0mself\u001b[0m\u001b[0;34m)\u001b[0m\u001b[0;34m:\u001b[0m\u001b[0;34m\u001b[0m\u001b[0;34m\u001b[0m\u001b[0m\n\u001b[0;32m--> 124\u001b[0;31m         \u001b[0;32mreturn\u001b[0m \u001b[0mquote_sheetname\u001b[0m\u001b[0;34m(\u001b[0m\u001b[0mself\u001b[0m\u001b[0;34m.\u001b[0m\u001b[0mworksheet\u001b[0m\u001b[0;34m.\u001b[0m\u001b[0mtitle\u001b[0m\u001b[0;34m)\u001b[0m\u001b[0;34m\u001b[0m\u001b[0;34m\u001b[0m\u001b[0m\n\u001b[0m",
            "\u001b[0;32m/usr/local/lib/python3.11/dist-packages/pandas/core/generic.py\u001b[0m in \u001b[0;36m__getattr__\u001b[0;34m(self, name)\u001b[0m\n\u001b[1;32m   6297\u001b[0m         ):\n\u001b[1;32m   6298\u001b[0m             \u001b[0;32mreturn\u001b[0m \u001b[0mself\u001b[0m\u001b[0;34m[\u001b[0m\u001b[0mname\u001b[0m\u001b[0;34m]\u001b[0m\u001b[0;34m\u001b[0m\u001b[0;34m\u001b[0m\u001b[0m\n\u001b[0;32m-> 6299\u001b[0;31m         \u001b[0;32mreturn\u001b[0m \u001b[0mobject\u001b[0m\u001b[0;34m.\u001b[0m\u001b[0m__getattribute__\u001b[0m\u001b[0;34m(\u001b[0m\u001b[0mself\u001b[0m\u001b[0;34m,\u001b[0m \u001b[0mname\u001b[0m\u001b[0;34m)\u001b[0m\u001b[0;34m\u001b[0m\u001b[0;34m\u001b[0m\u001b[0m\n\u001b[0m\u001b[1;32m   6300\u001b[0m \u001b[0;34m\u001b[0m\u001b[0m\n\u001b[1;32m   6301\u001b[0m     \u001b[0;34m@\u001b[0m\u001b[0mfinal\u001b[0m\u001b[0;34m\u001b[0m\u001b[0;34m\u001b[0m\u001b[0m\n",
            "\u001b[0;31mAttributeError\u001b[0m: 'DataFrame' object has no attribute 'title'"
          ]
        }
      ]
    }
  ]
}