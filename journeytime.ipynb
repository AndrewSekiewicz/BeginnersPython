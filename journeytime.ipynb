{
  "nbformat": 4,
  "nbformat_minor": 0,
  "metadata": {
    "colab": {
      "provenance": [],
      "authorship_tag": "ABX9TyPz6nsvwviVzjK/nHG2/rEe",
      "include_colab_link": true
    },
    "kernelspec": {
      "name": "python3",
      "display_name": "Python 3"
    },
    "language_info": {
      "name": "python"
    }
  },
  "cells": [
    {
      "cell_type": "markdown",
      "metadata": {
        "id": "view-in-github",
        "colab_type": "text"
      },
      "source": [
        "<a href=\"https://colab.research.google.com/github/AndrewSekiewicz/BeginnersPython/blob/main/journeytime.ipynb\" target=\"_parent\"><img src=\"https://colab.research.google.com/assets/colab-badge.svg\" alt=\"Open In Colab\"/></a>"
      ]
    },
    {
      "cell_type": "markdown",
      "source": [
        "calculating journey duration using built-in time parsing"
      ],
      "metadata": {
        "id": "tNEteH7iY4ut"
      }
    },
    {
      "cell_type": "code",
      "execution_count": null,
      "metadata": {
        "colab": {
          "base_uri": "https://localhost:8080/"
        },
        "id": "-frVsXbMYW_p",
        "outputId": "9bbf8543-ac71-470d-de83-25f35fca88d3"
      },
      "outputs": [
        {
          "output_type": "stream",
          "name": "stdout",
          "text": [
            "Enter start time (e.g., 08:30): 20:45\n",
            "Enter end time (e.g., 14:45): 21:20\n",
            "Duration: 0 hours and 35 minutes.\n"
          ]
        }
      ],
      "source": [
        "from datetime import datetime\n",
        "\n",
        "start = input(\"Enter start time (e.g., 08:30): \")\n",
        "end = input(\"Enter end time (e.g., 14:45): \")\n",
        "\n",
        "fmt = \"%H:%M\"\n",
        "start_time = datetime.strptime(start, fmt)\n",
        "end_time = datetime.strptime(end, fmt)\n",
        "\n",
        "# Handle overnight journey\n",
        "if end_time < start_time:\n",
        "    end_time = end_time.replace(day=start_time.day + 1)\n",
        "\n",
        "duration = end_time - start_time\n",
        "hours, remainder = divmod(duration.seconds, 3600)\n",
        "minutes = remainder // 60\n",
        "\n",
        "print(f\"Duration: {hours} hours and {minutes} minutes.\")"
      ]
    },
    {
      "cell_type": "markdown",
      "source": [
        "calculating journey duration using raw arithmetic on hours and minutes"
      ],
      "metadata": {
        "id": "uAZDK_6tZS5v"
      }
    },
    {
      "cell_type": "code",
      "source": [
        "from datetime import datetime\n",
        "\n",
        "start = input(\"Enter start time (e.g., 08:30): \")\n",
        "end = input(\"Enter end time (e.g., 14:45): \")\n",
        "\n",
        "fmt = \"%H:%M\"\n",
        "start_time = datetime.strptime(start, fmt)\n",
        "end_time = datetime.strptime(end, fmt)\n",
        "\n",
        "# Handle overnight journey\n",
        "if end_time < start_time:\n",
        "    end_time = end_time.replace(day=start_time.day + 1)\n",
        "\n",
        "duration = end_time - start_time\n",
        "hours, remainder = divmod(duration.seconds, 3600)\n",
        "minutes = remainder // 60\n",
        "\n",
        "print(f\"Duration: {hours} hours and {minutes} minutes.\")"
      ],
      "metadata": {
        "colab": {
          "base_uri": "https://localhost:8080/"
        },
        "id": "tvalW0pdY2JL",
        "outputId": "477c3ce3-8222-4142-ed5e-0e3ad284b549"
      },
      "execution_count": null,
      "outputs": [
        {
          "output_type": "stream",
          "name": "stdout",
          "text": [
            "Enter start time (e.g., 08:30): 20:45\n",
            "Enter end time (e.g., 14:45): 21:20\n",
            "Duration: 0 hours and 35 minutes.\n"
          ]
        }
      ]
    },
    {
      "cell_type": "markdown",
      "source": [],
      "metadata": {
        "id": "2awF8luXZM3Q"
      }
    }
  ]
}